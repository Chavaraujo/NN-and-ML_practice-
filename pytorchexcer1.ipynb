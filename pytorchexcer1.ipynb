{
 "cells": [
  {
   "cell_type": "code",
   "execution_count": 1,
   "id": "baf63ade-c45a-4bb0-8707-932eeae08803",
   "metadata": {},
   "outputs": [
    {
     "name": "stderr",
     "output_type": "stream",
     "text": [
      "/home/chavaraujo/.local/lib/python3.10/site-packages/torch/nn/modules/loss.py:101: UserWarning: Using a target size (torch.Size([4000])) that is different to the input size (torch.Size([4000, 1])). This will likely lead to incorrect results due to broadcasting. Please ensure they have the same size.\n",
      "  return F.l1_loss(input, target, reduction=self.reduction)\n"
     ]
    },
    {
     "name": "stdout",
     "output_type": "stream",
     "text": [
      "Epoch [100/2000], MSE Loss: 2304.39990234375\n",
      "Epoch [200/2000], MSE Loss: 2246.766845703125\n",
      "Epoch [300/2000], MSE Loss: 2236.790283203125\n",
      "Epoch [400/2000], MSE Loss: 2224.72607421875\n",
      "Epoch [500/2000], MSE Loss: 2218.739013671875\n",
      "Epoch [600/2000], MSE Loss: 2213.062744140625\n",
      "Epoch [700/2000], MSE Loss: 2197.159912109375\n",
      "Epoch [800/2000], MSE Loss: 2124.467041015625\n",
      "Epoch [900/2000], MSE Loss: 2022.086669921875\n",
      "Epoch [1000/2000], MSE Loss: 1959.8787841796875\n",
      "Epoch [1100/2000], MSE Loss: 1926.6488037109375\n",
      "Epoch [1200/2000], MSE Loss: 1903.241455078125\n",
      "Epoch [1300/2000], MSE Loss: 1888.5189208984375\n",
      "Epoch [1400/2000], MSE Loss: 1876.4591064453125\n",
      "Epoch [1500/2000], MSE Loss: 1867.0609130859375\n",
      "Epoch [1600/2000], MSE Loss: 1859.5294189453125\n",
      "Epoch [1700/2000], MSE Loss: 1853.8912353515625\n",
      "Epoch [1800/2000], MSE Loss: 1849.2445068359375\n",
      "Epoch [1900/2000], MSE Loss: 1845.7537841796875\n",
      "Epoch [2000/2000], MSE Loss: 1842.83740234375\n"
     ]
    }
   ],
   "source": [
    "import pandas as pd\n",
    "import numpy as np\n",
    "import torch\n",
    "import torch.nn as nn\n",
    "import torch.optim as optim\n",
    "from sklearn.model_selection import train_test_split\n",
    "\n",
    "street = pd.read_csv('streeteasy.csv')\n",
    "street.head()\n",
    "\n",
    "y = torch.tensor(street['rent'].values, dtype = torch.float)\n",
    "\n",
    "features = ['bedrooms', 'size_sqft', 'building_age_yrs', 'bathrooms']\n",
    "X = torch.tensor(street[features].values, dtype = torch.float)\n",
    "\n",
    "X_train, X_test, y_train, y_test = train_test_split(X, y, train_size = .80, test_size = .20)\n",
    "\n",
    "model = nn.Sequential(\n",
    "    nn.Linear(4, 64),\n",
    "    nn.ReLU(),\n",
    "    nn.Linear(64, 32),\n",
    "    nn.ReLU(),\n",
    "    nn.Linear(32, 16),\n",
    "    nn.ReLU(),\n",
    "    nn.Linear(16, 1)\n",
    ")\n",
    "\n",
    "loss = nn.L1Loss()\n",
    "\n",
    "optimizer  = optim.Adamax(model.parameters(), lr = .005)\n",
    "\n",
    "num_epochs = 2000\n",
    "for epoch in range(num_epochs):\n",
    "    predictions = model(X_train)\n",
    "    MSE = loss(predictions, y_train)\n",
    "    MSE.backward()\n",
    "    optimizer.step()\n",
    "    optimizer.zero_grad()\n",
    "    \n",
    "      \n",
    "    if (epoch + 1) % 100 == 0:\n",
    "        print(f'Epoch [{epoch + 1}/{num_epochs}], MSE Loss: {MSE.item()}')\n",
    "    "
   ]
  },
  {
   "cell_type": "code",
   "execution_count": 3,
   "id": "3b2d347f-3173-485f-bd92-daa2a63d135e",
   "metadata": {},
   "outputs": [
    {
     "name": "stdout",
     "output_type": "stream",
     "text": [
      "Test MSE is 1833.34033203125\n",
      "Test Root MSE is 42.817523655989845\n"
     ]
    },
    {
     "name": "stderr",
     "output_type": "stream",
     "text": [
      "/home/chavaraujo/.local/lib/python3.10/site-packages/torch/nn/modules/loss.py:101: UserWarning: Using a target size (torch.Size([1000])) that is different to the input size (torch.Size([1000, 1])). This will likely lead to incorrect results due to broadcasting. Please ensure they have the same size.\n",
      "  return F.l1_loss(input, target, reduction=self.reduction)\n"
     ]
    }
   ],
   "source": [
    "with torch.no_grad():\n",
    "    predictions = model(X_test)\n",
    "    test_MSE = loss(predictions, y_test)\n",
    "\n",
    "# show output\n",
    "print('Test MSE is ' + str(test_MSE.item()))\n",
    "print('Test Root MSE is ' + str(test_MSE.item()**(1/2)))"
   ]
  },
  {
   "cell_type": "code",
   "execution_count": 4,
   "id": "4e039cfd-5662-4f98-9efd-c09514b42fba",
   "metadata": {},
   "outputs": [],
   "source": [
    "torch.save(model, 'pract1.pth')"
   ]
  }
 ],
 "metadata": {
  "kernelspec": {
   "display_name": "Python 3 (ipykernel)",
   "language": "python",
   "name": "python3"
  },
  "language_info": {
   "codemirror_mode": {
    "name": "ipython",
    "version": 3
   },
   "file_extension": ".py",
   "mimetype": "text/x-python",
   "name": "python",
   "nbconvert_exporter": "python",
   "pygments_lexer": "ipython3",
   "version": "3.10.12"
  }
 },
 "nbformat": 4,
 "nbformat_minor": 5
}
